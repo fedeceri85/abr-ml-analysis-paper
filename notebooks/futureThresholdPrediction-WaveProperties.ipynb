{
 "cells": [
  {
   "cell_type": "markdown",
   "metadata": {
    "vscode": {
     "languageId": "markdown"
    }
   },
   "source": [
    "# Regression Model Training for prediction of future ABR parameters (DeltaMeanThreshold, wave 1 amplitude, wave 1 latency)\n",
    "This notebook is designed to train and evaluate regression models on auditory brainstem response (ABR) data. The goal is to predict various auditory metrics such as mean difference in thresholds, amplitude, and latency based on input features like age and frequency. The notebook includes parameter search, model training, and evaluation steps for different regression models including RandomForestRegressor."
   ]
  },
  {
   "cell_type": "code",
   "execution_count": null,
   "metadata": {},
   "outputs": [
    {
     "name": "stdout",
     "output_type": "stream",
     "text": [
      "Using matplotlib backend: <object object at 0x10912e330>\n",
      "%pylab is deprecated, use %matplotlib inline and import the required libraries.\n",
      "Populating the interactive namespace from numpy and matplotlib\n"
     ]
    }
   ],
   "source": [
    "%pylab\n",
    "%matplotlib inline\n",
    "%load_ext autoreload\n",
    "%autoreload 2\n",
    "import pandas as pd\n",
    "import sys\n",
    "import seaborn as sns\n",
    "sys.path.append('../src')\n",
    "import abrTools as at\n",
    "import os\n",
    "import numpy as np\n",
    "from sklearn.model_selection import train_test_split\n",
    "\n",
    "from sklearn.preprocessing import StandardScaler,Normalizer\n",
    "from sklearn.metrics import ConfusionMatrixDisplay,confusion_matrix,classification_report\n",
    "from collections import Counter\n",
    "from sklearn.feature_selection import f_classif,mutual_info_classif, SelectFpr, SelectPercentile,f_regression\n",
    "from sklearn.pipeline import make_pipeline\n",
    "\n",
    "\n",
    "from sklearn.ensemble import RandomForestRegressor"
   ]
  },
  {
   "cell_type": "code",
   "execution_count": null,
   "metadata": {},
   "outputs": [],
   "source": [
    "from datetime import date\n",
    "from joblib import dump, load\n",
    "savefolder = os.path.join('..','results',str(date.today()))\n",
    "\n",
    "if not os.path.exists(savefolder):\n",
    "    os.makedirs(savefolder)"
   ]
  },
  {
   "cell_type": "code",
   "execution_count": null,
   "metadata": {},
   "outputs": [],
   "source": [
    "# Global Variables \n",
    "anovaPercentile = 10\n",
    "inputFreqs = None\n",
    "n_splits = 10\n",
    "n_repeats = 5"
   ]
  },
  {
   "cell_type": "code",
   "execution_count": null,
   "metadata": {},
   "outputs": [],
   "source": [
    "def trainRegressionModel(model,mode,modelName,targetName,savefolder=savefolder,age='12month',inputs = ['1month','3month'],targetFreq = None,cvNjobs=1,inputFreqs=None,targetIntensity=None):\n",
    "    \"\"\"\n",
    "    Trains a regression model using a dataset created for future threshold, wave 1 amplitude and latency prediction based on ABR data.\n",
    "    \n",
    "    'input' is the combination of ages to use as input features. 'age' is the target age to predict. 'target' is the target feature to predict.\n",
    "\n",
    "    Saves:\n",
    "    - Cross-validation results as a CSV file.\n",
    "    - Trained model as a joblib file.\n",
    "    - Test results as a CSV file.\n",
    "    \"\"\"\n",
    "    \n",
    "    X_train,  X_test,y_train,y_test,mouseIDtrain,mouseIDtest,mouseStrainTrain,mouseStrainTest,dataVersion = at.createFutureThresholdDataset(test_size=0.25,inputFreqs=inputFreqs,inputs = inputs ,\n",
    "                                                                                                                                        strains = ['6N','Repaired'],target = age,mode = mode,\n",
    "\n",
    "    X = np.vstack([X_train,X_test])\n",
    "    try:\n",
    "        y = np.hstack([y_train,y_test])\n",
    "    except:\n",
    "        y = np.vstack([y_train,y_test])\n",
    "\n",
    "    res = at.fitRegModel(model,X_train,y_train,X_test,y_test,saveToWandb=False,\n",
    "                                        dataVersion=dataVersion,calculateScores=True,makePlot=False,n_jobs=cvNjobs,n_repeats=n_repeats,n_splits=n_splits)\n",
    "\n",
    "    model.fit(X_train,y_train) # Refit the model for good measure (this should be unnecessary)\n",
    "\n",
    "\n",
    "\n",
    "    #Save\n",
    "    pd.DataFrame(res).to_csv(os.path.join(savefolder,f'{modelName}{age}-{targetName}-{inputs}-inputFreq{inputFreqs}-resultsCV.csv'))\n",
    "    dump(model,os.path.join(savefolder,f'{modelName}{age}-{targetName}-{inputs}-inputFreq{inputFreqs}-model.joblib'))\n",
    "    pd.DataFrame({'y_test':y_test,'y_predict':model.predict(X_test),'Mouse ID':mouseIDtest,'Strain':mouseStrainTest}).to_csv(os.path.join(savefolder,f'{modelName}{age}-{targetName}-{inputs}-inputFreq{inputFreqs}-resultsTest.csv'))    \n",
    "    "
   ]
  },
  {
   "cell_type": "markdown",
   "metadata": {},
   "source": [
    "# 1 - Mean diff in thresholds"
   ]
  },
  {
   "cell_type": "markdown",
   "metadata": {},
   "source": [
    "## 1.1 Parameter Search for randomforest"
   ]
  },
  {
   "cell_type": "code",
   "execution_count": null,
   "metadata": {},
   "outputs": [],
   "source": [
    "###Grid search for random forest\n",
    "\n",
    "# from sklearn.model_selection import GridSearchCV,RepeatedKFold\n",
    "\n",
    "# parameters = {'randomforestregressor__n_estimators': [195,200,205,],#,100,500,1000],\n",
    "#               'randomforestregressor__min_samples_split': [2],\n",
    "#                'randomforestregressor__min_samples_leaf': [1,2,3]\n",
    "#               }\n",
    "\n",
    "# anova_fs = SelectPercentile(f_regression,percentile=anovaPercentile)\n",
    "# rfr = RandomForestRegressor(n_jobs=-1,random_state=42) # decent\n",
    "# model = make_pipeline(anova_fs,rfr)\n",
    "\n",
    "# cv = RepeatedKFold(n_splits=n_splits, n_repeats=n_repeats, random_state=42)\n",
    "# clf = GridSearchCV(model,param_grid=parameters,scoring='neg_mean_squared_error',cv=5)\n",
    "# clf.fit(X_train,y_train)\n",
    "# print(clf.best_params_)\n",
    "\n"
   ]
  },
  {
   "cell_type": "markdown",
   "metadata": {},
   "source": [
    "## 1.2 Train test RF regressor"
   ]
  },
  {
   "cell_type": "code",
   "execution_count": null,
   "metadata": {},
   "outputs": [],
   "source": [
    "from sklearn.linear_model import SGDRegressor \n",
    "from sktime.regression.kernel_based import RocketRegressor\n",
    "import xgboost as xgb\n",
    "\n",
    "for inputFreq in [[100]]: # Add None to train an all frequencies\n",
    "    for age in ['6month','9month','12month']: # Modify this to add different age targets\n",
    "        for input in [['1month','3month']]: # Modify this to train on different age inputs\n",
    "            anova_fs = SelectPercentile(f_regression,percentile=anovaPercentile)\n",
    "            rfr = RandomForestRegressor(n_jobs=-1,min_samples_leaf =  2,min_samples_split= 2,n_estimators=200) \n",
    "            trainRegressionModel(model,'meandiff',modelName='RandomForestRegressor',targetName='DThreshold',inputs=input,inputFreqs=inputFreq,savefolder=savefolder,age=age,cvNjobs=-1)\n",
    "\n"
   ]
  },
  {
   "cell_type": "markdown",
   "metadata": {},
   "source": [
    "# 2 - amplitude and latency models"
   ]
  },
  {
   "cell_type": "code",
   "execution_count": null,
   "metadata": {},
   "outputs": [],
   "source": [
    "# Amplitude\n",
    "for ti in [55,75,95]:\n",
    "    for inputFreq in [[100]]:\n",
    "        for age in ['6month','9month','12month']:\n",
    "            for input in [['1month'],['1month','3month'],['1month','3month','6month'],['1month','3month','6month','9month']]:\n",
    "                anova_fs = SelectPercentile(f_regression,percentile=anovaPercentile)\n",
    "                rfr = RandomForestRegressor(n_jobs=-1,min_samples_leaf =  2,min_samples_split= 2,n_estimators=200) # decent\n",
    "                model = make_pipeline(anova_fs,rfr)\n",
    "                trainRegressionModel(model,'waveamp',modelName=f'RandomForestRegressor{ti}dB',targetName='waveamp',inputs=input,inputFreqs=inputFreq,savefolder=savefolder,age=age,cvNjobs=-1, targetFreq=100,targetIntensity=ti)\n",
    "\n"
   ]
  },
  {
   "cell_type": "code",
   "execution_count": null,
   "metadata": {},
   "outputs": [],
   "source": [
    "# Latency\n",
    "for ti in [55,75,95]:\n",
    "    for inputFreq in [[100]]:\n",
    "        for age in ['6month','9month','12month']:\n",
    "            for input in [['1month'],['1month','3month'],['1month','3month','6month'],['1month','3month','6month','9month']]:\n",
    "                anova_fs = SelectPercentile(f_regression,percentile=anovaPercentile)\n",
    "                rfr = RandomForestRegressor(n_jobs=-1,min_samples_leaf =  2,min_samples_split= 2,n_estimators=200) # decent\n",
    "                model = make_pipeline(anova_fs,rfr)\n",
    "                trainRegressionModel(model,'wavelatency',modelName=f'RandomForestRegressor{ti}dB',targetName='wavelatency',inputs=input,inputFreqs=inputFreq,savefolder=savefolder,age=age,cvNjobs=-1, targetFreq=100,targetIntensity=ti)\n"
   ]
  }
 ],
 "metadata": {
  "kernelspec": {
   "display_name": "abr-ml2",
   "language": "python",
   "name": "python3"
  },
  "language_info": {
   "codemirror_mode": {
    "name": "ipython",
    "version": 3
   },
   "file_extension": ".py",
   "mimetype": "text/x-python",
   "name": "python",
   "nbconvert_exporter": "python",
   "pygments_lexer": "ipython3",
   "version": "3.10.14"
  }
 },
 "nbformat": 4,
 "nbformat_minor": 2
}
